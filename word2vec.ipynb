{
 "cells": [
  {
   "cell_type": "code",
   "execution_count": 2,
   "id": "3d2c9cd2",
   "metadata": {},
   "outputs": [],
   "source": [
    "import gensim.downloader"
   ]
  },
  {
   "cell_type": "code",
   "execution_count": 3,
   "id": "586a6042",
   "metadata": {},
   "outputs": [],
   "source": [
    "w2v_vectors = gensim.downloader.load('word2vec-google-news-300')"
   ]
  },
  {
   "cell_type": "code",
   "execution_count": 4,
   "id": "1bae633c",
   "metadata": {
    "collapsed": true
   },
   "outputs": [
    {
     "data": {
      "text/plain": [
       "[('bites', 0.7923099994659424),\n",
       " ('biting', 0.6586509346961975),\n",
       " ('levee_Boudrie', 0.5996153950691223),\n",
       " ('Bite', 0.5731574296951294),\n",
       " ('bitten', 0.5634480118751526),\n",
       " ('Biting', 0.5634196400642395),\n",
       " ('chomp', 0.5476451516151428),\n",
       " ('nibble', 0.5454412698745728),\n",
       " ('chew', 0.543099045753479),\n",
       " ('lick', 0.5370212197303772),\n",
       " ('chomped', 0.5052151679992676),\n",
       " ('gnaw', 0.5012314915657043),\n",
       " ('attorney_Donna_LeValley', 0.4903412163257599),\n",
       " ('mouthful', 0.48431989550590515),\n",
       " ('Neutered_dogs', 0.4842154085636139),\n",
       " ('Exhumed_bones', 0.4833284318447113),\n",
       " ('recluse_spider', 0.48123201727867126),\n",
       " ('advantages_cialis', 0.47777238488197327),\n",
       " ('female_Anopheles_mosquito', 0.47432124614715576),\n",
       " ('licks', 0.47421154379844666),\n",
       " ('frostbitten_Lambeau_Field', 0.46139460802078247),\n",
       " ('inject_venom', 0.4610162377357483),\n",
       " ('licked', 0.45918282866477966),\n",
       " ('worm_lizards', 0.45834144949913025),\n",
       " ('chomps', 0.4565301239490509),\n",
       " ('bitey', 0.45640072226524353),\n",
       " ('Redear', 0.45438089966773987),\n",
       " ('lickin', 0.45414766669273376),\n",
       " ('marks_Mannina', 0.45336729288101196),\n",
       " ('juicy_peach', 0.45261693000793457),\n",
       " ('barky', 0.44893643260002136),\n",
       " ('claw', 0.4475865662097931),\n",
       " ('claws', 0.4422432780265808),\n",
       " ('growl_bark', 0.4405665695667267),\n",
       " ('Bites', 0.44019615650177),\n",
       " ('shortchanging_Uncle_Sam', 0.4353952705860138),\n",
       " ('gamy_flavor', 0.43537604808807373),\n",
       " ('morsel', 0.4344376027584076),\n",
       " ('nibbling', 0.4341331422328949),\n",
       " ('red_itchy_welts', 0.4336812198162079),\n",
       " ('june_bug', 0.4335574209690094),\n",
       " ('swallow', 0.4324970245361328),\n",
       " ('kangaroo_testicle', 0.4323875606060028),\n",
       " ('multilateral_multipolar', 0.4309040307998657),\n",
       " ('Peanut_butter_recall', 0.43036988377571106),\n",
       " ('mutant_spider', 0.4303478002548218),\n",
       " ('rattle_snake', 0.4291418492794037),\n",
       " ('itchy_welts', 0.42816200852394104),\n",
       " ('bark', 0.4267403483390808),\n",
       " ('Sandy_Fatland_spokeswoman', 0.42604175209999084),\n",
       " ('injects_venom', 0.42506110668182373),\n",
       " ('bitin', 0.4250047206878662),\n",
       " ('gamey_taste', 0.4249434471130371),\n",
       " ('MirrOlure_Top', 0.42439067363739014),\n",
       " ('hamachi_kama', 0.42414095997810364),\n",
       " ('biter', 0.4235989451408386),\n",
       " ('fang_marks', 0.4220277667045593),\n",
       " ('lumps', 0.4219818413257599),\n",
       " ('squish', 0.4218689799308777),\n",
       " ('biters', 0.4215909540653229),\n",
       " ('tad_overcooked', 0.4196580946445465),\n",
       " ('Kristen_Lippstreu', 0.4187537729740143),\n",
       " ('fangs', 0.4163573682308197),\n",
       " ('redfish_sheepshead', 0.41554877161979675),\n",
       " ('brown_recluse_spider', 0.41545480489730835),\n",
       " ('McChicken_sandwich', 0.41531720757484436),\n",
       " ('venomous_spider', 0.41414541006088257),\n",
       " ('An_odontologist', 0.4137365520000458),\n",
       " ('Eastern_diamondback_rattlesnake', 0.4136497676372528),\n",
       " ('juicy_hamburger', 0.41343721747398376),\n",
       " ('chewed', 0.4124767780303955),\n",
       " ('wallop', 0.41244131326675415),\n",
       " ('razor_sharp_serrated_teeth', 0.4118975102901459),\n",
       " ('catfood', 0.4118708372116089),\n",
       " ('bitting', 0.4109891355037689),\n",
       " ('licking', 0.40999722480773926),\n",
       " ('Tautog', 0.4096355736255646),\n",
       " ('gnawed', 0.4089656472206116),\n",
       " ('Scup', 0.4088320732116699),\n",
       " ('chewing', 0.4076522886753082),\n",
       " ('stab', 0.4074282646179199),\n",
       " ('mackerel_shrimp', 0.4065125286579132),\n",
       " ('goggle_eye', 0.4049597382545471),\n",
       " ('clam_baits', 0.4044773578643799),\n",
       " ('Jeffrey_Striks', 0.4035126864910126),\n",
       " ('pygmy_rattler', 0.40349066257476807),\n",
       " ('sucking_mouthparts', 0.4032289981842041),\n",
       " ('Habsburg_heir', 0.40306299924850464),\n",
       " ('sharks_barracuda', 0.4029017686843872),\n",
       " ('Brown_Recluse_Spider', 0.40243539214134216),\n",
       " ('flappin', 0.4022812843322754),\n",
       " ('Stocked_trout', 0.4014861583709717),\n",
       " ('gnawing', 0.4012284576892853),\n",
       " ('puncture_wound', 0.4011806547641754),\n",
       " ('Statewide_clefts', 0.4008117616176605),\n",
       " ('nibbles', 0.40039780735969543),\n",
       " ('Flu_bug', 0.399701327085495),\n",
       " ('crappie_bites', 0.3996817171573639),\n",
       " ('Dhs##_Modest_meals', 0.39917731285095215),\n",
       " ('venomous_serpent', 0.39882969856262207)]"
      ]
     },
     "execution_count": 4,
     "metadata": {},
     "output_type": "execute_result"
    }
   ],
   "source": [
    "w2v_vectors.most_similar('bite', topn=100)"
   ]
  },
  {
   "cell_type": "code",
   "execution_count": 24,
   "id": "cc80d0b6",
   "metadata": {},
   "outputs": [
    {
     "data": {
      "text/plain": [
       "0.36615804"
      ]
     },
     "execution_count": 24,
     "metadata": {},
     "output_type": "execute_result"
    }
   ],
   "source": [
    " w2v_vectors.similarity('slurp', 'bite')"
   ]
  },
  {
   "cell_type": "code",
   "execution_count": 36,
   "id": "6f4a5ab0",
   "metadata": {
    "collapsed": true
   },
   "outputs": [
    {
     "data": {
      "text/plain": [
       "[('sip', 0.6460235714912415),\n",
       " ('slurping', 0.6459217071533203),\n",
       " ('slurped', 0.6253595948219299),\n",
       " ('quaff', 0.5940819978713989),\n",
       " ('glug', 0.5883965492248535),\n",
       " ('gulp', 0.5842556357383728),\n",
       " ('chug', 0.5709236264228821),\n",
       " ('slurpers', 0.5640602111816406),\n",
       " ('munch', 0.555703341960907),\n",
       " ('snarf', 0.5551402568817139),\n",
       " ('slurps', 0.5488429665565491),\n",
       " ('chomp', 0.5456534624099731),\n",
       " ('sweet_iced_tea', 0.5455130338668823),\n",
       " ('guzzle', 0.5414138436317444),\n",
       " ('snarfing', 0.5221036672592163),\n",
       " ('chocolate_martini', 0.5160666704177856),\n",
       " ('gulping', 0.5158193707466125),\n",
       " ('snarfed', 0.5129956603050232),\n",
       " ('wolfing', 0.5098082423210144),\n",
       " ('suck', 0.5071808099746704),\n",
       " ('strawberry_daiquiris', 0.5068351626396179),\n",
       " ('gargle', 0.5037758350372314),\n",
       " ('appletinis', 0.5037167072296143),\n",
       " ('glassful', 0.5031930804252625),\n",
       " ('frozen_margaritas', 0.502865195274353),\n",
       " ('plop', 0.5024349093437195),\n",
       " ('lychee_martini', 0.5023730993270874),\n",
       " ('gin_fizz', 0.502231240272522),\n",
       " ('chocolate_malts', 0.5015562772750854),\n",
       " ('cran', 0.4995594322681427),\n",
       " ('slurpy', 0.49830248951911926),\n",
       " ('swilling', 0.4973350763320923),\n",
       " ('hot_toddy', 0.49666470289230347),\n",
       " ('gullets', 0.49477943778038025),\n",
       " ('glugs', 0.49469977617263794),\n",
       " ('swig', 0.49437060952186584),\n",
       " ('glugging', 0.49433329701423645),\n",
       " ('gurgle', 0.4924142360687256),\n",
       " ('bowlful', 0.49230292439460754),\n",
       " ('mochaccino', 0.4913807809352875),\n",
       " ('mango_margarita', 0.4903928339481354),\n",
       " ('gin_martini', 0.4902990460395813),\n",
       " ('vin_rouge', 0.4902705252170563),\n",
       " ('oysters_shucked', 0.48988422751426697),\n",
       " ('grande_nonfat', 0.48977842926979065),\n",
       " ('crème_de_menthe', 0.48938292264938354),\n",
       " ('old_fashioneds', 0.4890708327293396),\n",
       " ('sippers', 0.48905524611473083),\n",
       " ('toddies', 0.4888542890548706),\n",
       " ('guzzle_beer', 0.4886860251426697),\n",
       " ('pomegranate_martini', 0.48868393898010254),\n",
       " ('slosh', 0.4885004758834839),\n",
       " ('agua_fresca', 0.4869861304759979),\n",
       " ('shakes_sundaes', 0.485856831073761),\n",
       " ('sweet_potato_pecan_pie', 0.48552659153938293),\n",
       " ('café_latte', 0.4850533604621887),\n",
       " ('Got_hankering', 0.48471012711524963),\n",
       " ('raspberry_iced_tea', 0.48378700017929077),\n",
       " ('mocha_frappuccino', 0.483686625957489),\n",
       " ('scarfed', 0.483673632144928),\n",
       " ('mashed_peas', 0.4832232594490051),\n",
       " ('buttered_biscuits', 0.48306718468666077),\n",
       " ('stomach_growls', 0.4822954833507538),\n",
       " ('vanilla_lattes', 0.4822618067264557),\n",
       " ('spiced_pumpkin', 0.4822007417678833),\n",
       " ('Fudgsicle', 0.48190873861312866),\n",
       " ('Slurping', 0.4816402792930603),\n",
       " ('piña_colada', 0.4816385805606842),\n",
       " ('aged_sherry_vinegar', 0.4812234938144684),\n",
       " ('swillers', 0.4812209904193878),\n",
       " ('appletini', 0.48104920983314514),\n",
       " ('strawberry_daiquiri', 0.48084697127342224),\n",
       " ('gulps', 0.48065808415412903),\n",
       " ('frappé', 0.48055100440979004),\n",
       " ('frosty_mug', 0.48049503564834595),\n",
       " ('spicy_curry', 0.47984856367111206),\n",
       " ('sipping', 0.479837566614151),\n",
       " ('cappucino', 0.4793313145637512),\n",
       " ('wolfed', 0.4793170690536499),\n",
       " ('gimlets', 0.4792272746562958),\n",
       " ('colada', 0.47908952832221985),\n",
       " ('brewsky', 0.47859564423561096),\n",
       " ('burp', 0.4782561659812927),\n",
       " ('squirt', 0.4781515598297119),\n",
       " ('frothed_milk', 0.4775407314300537),\n",
       " ('Mmmmm', 0.4771316647529602),\n",
       " ('chomps', 0.4765658676624298),\n",
       " ('grilled_bratwurst', 0.4764842987060547),\n",
       " ('peppermint_mocha', 0.4759460687637329),\n",
       " ('chili_fries', 0.47474488615989685),\n",
       " ('frosty_mugs', 0.474266916513443),\n",
       " ('apple_martini', 0.4738137722015381),\n",
       " ('Grey_Goose_martini', 0.4736752510070801),\n",
       " ('gobble', 0.4736096262931824),\n",
       " ('caramel_latte', 0.473548948764801),\n",
       " ('lattés', 0.47353458404541016),\n",
       " ('mint_mojito', 0.4734646677970886),\n",
       " ('strawberry_purée', 0.4733944535255432),\n",
       " ('swills', 0.4730328619480133),\n",
       " ('choccy', 0.47260963916778564)]"
      ]
     },
     "execution_count": 36,
     "metadata": {},
     "output_type": "execute_result"
    }
   ],
   "source": [
    " w2v_vectors.most_similar('slurp', topn=100)"
   ]
  },
  {
   "cell_type": "code",
   "execution_count": 34,
   "id": "cd13b64d",
   "metadata": {},
   "outputs": [],
   "source": [
    "def find_most_similar(model, wrd, threshold=0.35):\n",
    "    word_list = w2v_vectors.most_similar(wrd, topn=len(w2v_vectors.vocab))\n",
    "    word_list\n",
    "    res = [item for item in word_list if item[1] > threshold]\n",
    "    return res"
   ]
  },
  {
   "cell_type": "code",
   "execution_count": 5,
   "id": "902cf7c9",
   "metadata": {},
   "outputs": [],
   "source": [
    "word_list = w2v_vectors.most_similar('slurp', topn=10)"
   ]
  },
  {
   "cell_type": "code",
   "execution_count": null,
   "id": "4a7289c6",
   "metadata": {},
   "outputs": [],
   "source": []
  },
  {
   "cell_type": "code",
   "execution_count": null,
   "id": "68de0886",
   "metadata": {},
   "outputs": [],
   "source": []
  },
  {
   "cell_type": "code",
   "execution_count": null,
   "id": "147a6c7a",
   "metadata": {},
   "outputs": [],
   "source": []
  },
  {
   "cell_type": "code",
   "execution_count": 37,
   "id": "f2d3091a",
   "metadata": {},
   "outputs": [
    {
     "ename": "AttributeError",
     "evalue": "The vocab attribute was removed from KeyedVector in Gensim 4.0.0.\nUse KeyedVector's .key_to_index dict, .index_to_key list, and methods .get_vecattr(key, attr) and .set_vecattr(key, attr, new_val) instead.\nSee https://github.com/RaRe-Technologies/gensim/wiki/Migrating-from-Gensim-3.x-to-4",
     "output_type": "error",
     "traceback": [
      "\u001b[0;31m---------------------------------------------------------------------------\u001b[0m",
      "\u001b[0;31mAttributeError\u001b[0m                            Traceback (most recent call last)",
      "Cell \u001b[0;32mIn[37], line 1\u001b[0m\n\u001b[0;32m----> 1\u001b[0m \u001b[43mfind_most_similar\u001b[49m\u001b[43m(\u001b[49m\u001b[43mw2v_vectors\u001b[49m\u001b[43m,\u001b[49m\u001b[43m \u001b[49m\u001b[38;5;124;43m'\u001b[39;49m\u001b[38;5;124;43mslurp\u001b[39;49m\u001b[38;5;124;43m'\u001b[39;49m\u001b[43m,\u001b[49m\u001b[43m \u001b[49m\u001b[38;5;241;43m0.35\u001b[39;49m\u001b[43m)\u001b[49m\n",
      "Cell \u001b[0;32mIn[34], line 2\u001b[0m, in \u001b[0;36mfind_most_similar\u001b[0;34m(model, wrd, threshold)\u001b[0m\n\u001b[1;32m      1\u001b[0m \u001b[38;5;28;01mdef\u001b[39;00m \u001b[38;5;21mfind_most_similar\u001b[39m(model, wrd, threshold\u001b[38;5;241m=\u001b[39m\u001b[38;5;241m0.35\u001b[39m):\n\u001b[0;32m----> 2\u001b[0m     word_list \u001b[38;5;241m=\u001b[39m w2v_vectors\u001b[38;5;241m.\u001b[39mmost_similar(wrd, topn\u001b[38;5;241m=\u001b[39m\u001b[38;5;28mlen\u001b[39m(\u001b[43mw2v_vectors\u001b[49m\u001b[38;5;241;43m.\u001b[39;49m\u001b[43mvocab\u001b[49m))\n\u001b[1;32m      3\u001b[0m     word_list\n",
      "File \u001b[0;32m~/workspaces/.env/lib/python3.10/site-packages/gensim/models/keyedvectors.py:734\u001b[0m, in \u001b[0;36mKeyedVectors.vocab\u001b[0;34m(self)\u001b[0m\n\u001b[1;32m    732\u001b[0m \u001b[38;5;129m@property\u001b[39m\n\u001b[1;32m    733\u001b[0m \u001b[38;5;28;01mdef\u001b[39;00m \u001b[38;5;21mvocab\u001b[39m(\u001b[38;5;28mself\u001b[39m):\n\u001b[0;32m--> 734\u001b[0m     \u001b[38;5;28;01mraise\u001b[39;00m \u001b[38;5;167;01mAttributeError\u001b[39;00m(\n\u001b[1;32m    735\u001b[0m         \u001b[38;5;124m\"\u001b[39m\u001b[38;5;124mThe vocab attribute was removed from KeyedVector in Gensim 4.0.0.\u001b[39m\u001b[38;5;130;01m\\n\u001b[39;00m\u001b[38;5;124m\"\u001b[39m\n\u001b[1;32m    736\u001b[0m         \u001b[38;5;124m\"\u001b[39m\u001b[38;5;124mUse KeyedVector\u001b[39m\u001b[38;5;124m'\u001b[39m\u001b[38;5;124ms .key_to_index dict, .index_to_key list, and methods \u001b[39m\u001b[38;5;124m\"\u001b[39m\n\u001b[1;32m    737\u001b[0m         \u001b[38;5;124m\"\u001b[39m\u001b[38;5;124m.get_vecattr(key, attr) and .set_vecattr(key, attr, new_val) instead.\u001b[39m\u001b[38;5;130;01m\\n\u001b[39;00m\u001b[38;5;124m\"\u001b[39m\n\u001b[1;32m    738\u001b[0m         \u001b[38;5;124m\"\u001b[39m\u001b[38;5;124mSee https://github.com/RaRe-Technologies/gensim/wiki/Migrating-from-Gensim-3.x-to-4\u001b[39m\u001b[38;5;124m\"\u001b[39m\n\u001b[1;32m    739\u001b[0m     )\n",
      "\u001b[0;31mAttributeError\u001b[0m: The vocab attribute was removed from KeyedVector in Gensim 4.0.0.\nUse KeyedVector's .key_to_index dict, .index_to_key list, and methods .get_vecattr(key, attr) and .set_vecattr(key, attr, new_val) instead.\nSee https://github.com/RaRe-Technologies/gensim/wiki/Migrating-from-Gensim-3.x-to-4"
     ]
    }
   ],
   "source": [
    "find_most_similar(w2v_vectors, 'slurp', 0.35)"
   ]
  },
  {
   "cell_type": "code",
   "execution_count": null,
   "id": "f099fc55",
   "metadata": {},
   "outputs": [],
   "source": []
  },
  {
   "cell_type": "code",
   "execution_count": 43,
   "id": "96ca6130",
   "metadata": {},
   "outputs": [
    {
     "name": "stdout",
     "output_type": "stream",
     "text": [
      "[=========-----------------------------------------] 18.3% 23.4/128.1MB downloaded"
     ]
    },
    {
     "name": "stderr",
     "output_type": "stream",
     "text": [
      "IOPub message rate exceeded.\n",
      "The notebook server will temporarily stop sending output\n",
      "to the client in order to avoid crashing it.\n",
      "To change this limit, set the config variable\n",
      "`--NotebookApp.iopub_msg_rate_limit`.\n",
      "\n",
      "Current values:\n",
      "NotebookApp.iopub_msg_rate_limit=1000.0 (msgs/sec)\n",
      "NotebookApp.rate_limit_window=3.0 (secs)\n",
      "\n"
     ]
    },
    {
     "name": "stdout",
     "output_type": "stream",
     "text": [
      "[=======================---------------------------] 47.7% 61.1/128.1MB downloaded"
     ]
    }
   ],
   "source": []
  },
  {
   "cell_type": "code",
   "execution_count": 44,
   "id": "893929ed",
   "metadata": {},
   "outputs": [],
   "source": []
  },
  {
   "cell_type": "code",
   "execution_count": null,
   "id": "988c5108",
   "metadata": {},
   "outputs": [],
   "source": []
  }
 ],
 "metadata": {
  "kernelspec": {
   "display_name": "Python 3 (ipykernel)",
   "language": "python",
   "name": "python3"
  },
  "language_info": {
   "codemirror_mode": {
    "name": "ipython",
    "version": 3
   },
   "file_extension": ".py",
   "mimetype": "text/x-python",
   "name": "python",
   "nbconvert_exporter": "python",
   "pygments_lexer": "ipython3",
   "version": "3.10.9"
  }
 },
 "nbformat": 4,
 "nbformat_minor": 5
}
