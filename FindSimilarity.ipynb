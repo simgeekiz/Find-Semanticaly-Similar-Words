{
 "cells": [
  {
   "cell_type": "code",
   "execution_count": 15,
   "id": "3342d456",
   "metadata": {},
   "outputs": [],
   "source": [
    "import gensim.downloader\n",
    "import numpy as np"
   ]
  },
  {
   "cell_type": "code",
   "execution_count": 50,
   "id": "5171e0d3-ea87-4e37-bb14-dfab42ca2ff7",
   "metadata": {},
   "outputs": [
    {
     "name": "stdout",
     "output_type": "stream",
     "text": [
      "['fasttext-wiki-news-subwords-300', 'conceptnet-numberbatch-17-06-300', 'word2vec-ruscorpora-300', 'word2vec-google-news-300', 'glove-wiki-gigaword-50', 'glove-wiki-gigaword-100', 'glove-wiki-gigaword-200', 'glove-wiki-gigaword-300', 'glove-twitter-25', 'glove-twitter-50', 'glove-twitter-100', 'glove-twitter-200', '__testing_word2vec-matrix-synopsis']\n"
     ]
    }
   ],
   "source": [
    "# Show all available models in gensim-data\n",
    "print(list(gensim.downloader.info()['models'].keys()))"
   ]
  },
  {
   "cell_type": "code",
   "execution_count": 5,
   "id": "91cb59ab",
   "metadata": {},
   "outputs": [],
   "source": [
    "# glove_vectors = gensim.downloader.load('glove-wiki-gigaword-300')\n",
    "w2v_vectors = gensim.downloader.load('word2vec-google-news-300')"
   ]
  },
  {
   "cell_type": "code",
   "execution_count": 49,
   "id": "24e11959",
   "metadata": {
    "scrolled": true
   },
   "outputs": [],
   "source": [
    "# glove_vectors.most_similar('jackknifed', topn=100)\n",
    "# w2v_vectors.most_similar('joyride', topn=100)"
   ]
  },
  {
   "cell_type": "code",
   "execution_count": 51,
   "id": "a6f8e7c4",
   "metadata": {
    "scrolled": true
   },
   "outputs": [],
   "source": [
    "def find_similar_words(model, target_word, threshold, precision=4):\n",
    "\n",
    "    if target_word not in model.key_to_index:\n",
    "        raise ValueError(f\"The target word '{target_word}' is not present in the model.\")\n",
    "        \n",
    "    similar_words = model.most_similar(target_word, topn=10000)\n",
    "    # filtered_words = [(word, similarity) for word, similarity in similar_words if abs(similarity - threshold) <= 0.005]\n",
    "\n",
    "    threshold = round(threshold, precision)\n",
    "    filtered_words = [(word, similarity) for word, similarity in similar_words if round(similarity, precision) == threshold]\n",
    "\n",
    "    if len(filtered_words) == 0:\n",
    "        filtered_words = {(word, w2v_vectors.similarity(word, target_word)) for word, index in w2v_vectors.key_to_index.items()\n",
    "                 if round(w2v_vectors.similarity(word, target_word), precision) == np.float32(threshold)}\n",
    "    \n",
    "    return filtered_words"
   ]
  },
  {
   "cell_type": "code",
   "execution_count": 52,
   "id": "56b4e077-710f-47f9-9a41-f5eb5e13b713",
   "metadata": {},
   "outputs": [
    {
     "name": "stdout",
     "output_type": "stream",
     "text": [
      "crash: 0.39054685831069946\n"
     ]
    }
   ],
   "source": [
    "# Example usage:\n",
    "# model_name = \"word2vec-google-news-300\"  # Replace this with the model name you want to use\n",
    "target_word = \"joyride\"\n",
    "threshold = 0.3905\n",
    "precision=4\n",
    "similar_words = find_similar_words(w2v_vectors, target_word, threshold, precision)\n",
    "\n",
    "for word, similarity in similar_words:\n",
    "    print(f\"{word}: {similarity}\")"
   ]
  },
  {
   "cell_type": "code",
   "execution_count": null,
   "id": "285a909e-6000-4e68-9a92-9b5df0d9e7ec",
   "metadata": {},
   "outputs": [],
   "source": []
  }
 ],
 "metadata": {
  "kernelspec": {
   "display_name": "Python 3 (ipykernel)",
   "language": "python",
   "name": "python3"
  },
  "language_info": {
   "codemirror_mode": {
    "name": "ipython",
    "version": 3
   },
   "file_extension": ".py",
   "mimetype": "text/x-python",
   "name": "python",
   "nbconvert_exporter": "python",
   "pygments_lexer": "ipython3",
   "version": "3.10.6"
  }
 },
 "nbformat": 4,
 "nbformat_minor": 5
}
