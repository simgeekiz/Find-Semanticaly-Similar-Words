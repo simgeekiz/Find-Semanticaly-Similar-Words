{
 "cells": [
  {
   "cell_type": "code",
   "execution_count": 1,
   "id": "3342d456",
   "metadata": {},
   "outputs": [],
   "source": [
    "import gensim.downloader\n",
    "import numpy as np\n",
    "import os\n",
    "from gensim.models import KeyedVectors"
   ]
  },
  {
   "cell_type": "code",
   "execution_count": 2,
   "id": "5171e0d3-ea87-4e37-bb14-dfab42ca2ff7",
   "metadata": {},
   "outputs": [
    {
     "name": "stdout",
     "output_type": "stream",
     "text": [
      "['fasttext-wiki-news-subwords-300', 'conceptnet-numberbatch-17-06-300', 'word2vec-ruscorpora-300', 'word2vec-google-news-300', 'glove-wiki-gigaword-50', 'glove-wiki-gigaword-100', 'glove-wiki-gigaword-200', 'glove-wiki-gigaword-300', 'glove-twitter-25', 'glove-twitter-50', 'glove-twitter-100', 'glove-twitter-200', '__testing_word2vec-matrix-synopsis']\n"
     ]
    }
   ],
   "source": [
    "# Show all available models in gensim-data\n",
    "print(list(gensim.downloader.info()['models'].keys()))"
   ]
  },
  {
   "cell_type": "code",
   "execution_count": 3,
   "id": "91cb59ab",
   "metadata": {},
   "outputs": [],
   "source": [
    "# glove_vectors = gensim.downloader.load('glove-wiki-gigaword-300')\n",
    "# model = gensim.downloader.load('word2vec-google-news-300')"
   ]
  },
  {
   "cell_type": "code",
   "execution_count": 4,
   "id": "b642c80a-e023-413e-86d4-067dc0cd7d29",
   "metadata": {},
   "outputs": [],
   "source": [
    "if os.path.isdir(gensim.downloader.BASE_DIR) and \\\n",
    "    os.path.isdir(gensim.downloader.BASE_DIR + '/word2vec-google-news-300') and \\\n",
    "    os.path.exists(gensim.downloader.BASE_DIR + '/word2vec-google-news-300/word2vec-google-news-300.gz'):\n",
    "    model = KeyedVectors.load_word2vec_format(gensim.downloader.BASE_DIR + '/word2vec-google-news-300/word2vec-google-news-300.gz', binary=True)\n",
    "else: \n",
    "    model = gensim.downloader.load('word2vec-google-news-300')"
   ]
  },
  {
   "cell_type": "code",
   "execution_count": 5,
   "id": "24e11959",
   "metadata": {
    "scrolled": true
   },
   "outputs": [],
   "source": [
    "# glove_vectors.most_similar('jackknifed', topn=100)\n",
    "# model.most_similar('joyride', topn=100)"
   ]
  },
  {
   "cell_type": "code",
   "execution_count": 18,
   "id": "a6f8e7c4",
   "metadata": {
    "scrolled": true
   },
   "outputs": [],
   "source": [
    "def find_similar_words(model, target_word, threshold, precision=4):\n",
    "\n",
    "    if target_word not in model.key_to_index:\n",
    "        raise ValueError(f\"The target word '{target_word}' is not present in the model.\")\n",
    "        \n",
    "    similar_words = model.most_similar(target_word, topn=10000)\n",
    "    \n",
    "    threshold = round(threshold, precision)\n",
    "    filtered_words = [(word, similarity) for word, similarity in similar_words if round(similarity, precision) == threshold]\n",
    "\n",
    "    if len(filtered_words) == 0:\n",
    "        filtered_words = [(word, model.similarity(word, target_word)) for word, index in model.key_to_index.items()\n",
    "                 if round(model.similarity(word, target_word), precision) == threshold]\n",
    "    \n",
    "    return filtered_words"
   ]
  },
  {
   "cell_type": "code",
   "execution_count": 20,
   "id": "56b4e077-710f-47f9-9a41-f5eb5e13b713",
   "metadata": {},
   "outputs": [
    {
     "name": "stdout",
     "output_type": "stream",
     "text": [
      "sdasdasd\n",
      "crash: 0.39054685831069946\n"
     ]
    }
   ],
   "source": [
    "# Example usage:\n",
    "# model_name = \"word2vec-google-news-300\"  # Replace this with the model name you want to use\n",
    "target_word = \"joyride\"\n",
    "threshold = np.float32(0.3905)\n",
    "precision=4\n",
    "similar_words = find_similar_words(model, target_word, threshold, precision)\n",
    "\n",
    "for word, similarity in similar_words:\n",
    "    print(f\"{word}: {similarity}\")"
   ]
  },
  {
   "cell_type": "code",
   "execution_count": 22,
   "id": "43ac920b-c037-4001-a2ad-c21de9496067",
   "metadata": {},
   "outputs": [],
   "source": [
    "word='joyride'\n",
    "similarity=0.3905\n",
    "filtered_words = find_similar_words(model, word, similarity, precision)"
   ]
  },
  {
   "cell_type": "code",
   "execution_count": 23,
   "id": "8009c1c5-ed6e-421c-93a1-f33784752632",
   "metadata": {},
   "outputs": [
    {
     "data": {
      "text/plain": [
       "[('crash', 0.39054685831069946)]"
      ]
     },
     "execution_count": 23,
     "metadata": {},
     "output_type": "execute_result"
    }
   ],
   "source": [
    "filtered_words"
   ]
  },
  {
   "cell_type": "code",
   "execution_count": 24,
   "id": "378c91d9-7517-4d9a-bcab-e3ab2ef468d0",
   "metadata": {},
   "outputs": [
    {
     "name": "stdout",
     "output_type": "stream",
     "text": [
      "sdasdasd\n"
     ]
    }
   ],
   "source": [
    "word='joyride'\n",
    "similarity=np.float32(0.3905)\n",
    "filtered_words = find_similar_words(model, word, similarity, precision)"
   ]
  },
  {
   "cell_type": "code",
   "execution_count": 25,
   "id": "2bf6d0b5-f911-4c96-ab26-e7feb6488b7c",
   "metadata": {},
   "outputs": [
    {
     "data": {
      "text/plain": [
       "[('crash', 0.39054686)]"
      ]
     },
     "execution_count": 25,
     "metadata": {},
     "output_type": "execute_result"
    }
   ],
   "source": [
    "filtered_words"
   ]
  },
  {
   "cell_type": "code",
   "execution_count": null,
   "id": "1ca92fc6-e317-4b78-bb2f-680ed959c18a",
   "metadata": {},
   "outputs": [],
   "source": []
  }
 ],
 "metadata": {
  "kernelspec": {
   "display_name": "Python 3 (ipykernel)",
   "language": "python",
   "name": "python3"
  },
  "language_info": {
   "codemirror_mode": {
    "name": "ipython",
    "version": 3
   },
   "file_extension": ".py",
   "mimetype": "text/x-python",
   "name": "python",
   "nbconvert_exporter": "python",
   "pygments_lexer": "ipython3",
   "version": "3.10.12"
  }
 },
 "nbformat": 4,
 "nbformat_minor": 5
}
