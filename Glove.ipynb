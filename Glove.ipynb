{
 "cells": [
  {
   "cell_type": "code",
   "execution_count": 1,
   "id": "3342d456",
   "metadata": {},
   "outputs": [],
   "source": [
    "import gensim.downloader"
   ]
  },
  {
   "cell_type": "code",
   "execution_count": 5,
   "id": "91cb59ab",
   "metadata": {},
   "outputs": [],
   "source": [
    "glove_vectors = gensim.downloader.load('glove-wiki-gigaword-300')"
   ]
  },
  {
   "cell_type": "code",
   "execution_count": 6,
   "id": "24e11959",
   "metadata": {
    "collapsed": true
   },
   "outputs": [
    {
     "data": {
      "text/plain": [
       "[('bites', 0.7582444548606873),\n",
       " ('biting', 0.5829594731330872),\n",
       " ('bitten', 0.5481410026550293),\n",
       " ('flesh', 0.4915023148059845),\n",
       " ('eat', 0.4805143475532532),\n",
       " ('claw', 0.478864461183548),\n",
       " ('eaten', 0.4597683250904083),\n",
       " ('tick', 0.45348504185676575),\n",
       " ('teeth', 0.44349655508995056),\n",
       " ('claws', 0.4385935068130493),\n",
       " ('venom', 0.43150293827056885),\n",
       " ('eating', 0.4247511625289917),\n",
       " ('venomous', 0.42078644037246704),\n",
       " ('bit', 0.4176793694496155),\n",
       " ('mouth', 0.4137677252292633),\n",
       " ('knife', 0.4134075939655304),\n",
       " ('slice', 0.4101291000843048),\n",
       " ('ear', 0.4094446897506714),\n",
       " ('throat', 0.40938666462898254),\n",
       " ('snake', 0.409008264541626),\n",
       " ('dog', 0.40832754969596863),\n",
       " ('swallow', 0.4077461063861847),\n",
       " ('insect', 0.40575286746025085),\n",
       " ('mosquito', 0.4037322998046875),\n",
       " ('shark', 0.40357115864753723),\n",
       " ('tongue', 0.40276530385017395),\n",
       " ('punch', 0.3992988169193268),\n",
       " ('bug', 0.3991071283817291),\n",
       " ('prey', 0.3987921476364136),\n",
       " ('painful', 0.39271631836891174),\n",
       " ('bark', 0.3923194408416748),\n",
       " ('meat', 0.39195847511291504),\n",
       " ('ears', 0.38791176676750183),\n",
       " ('fangs', 0.3873860239982605),\n",
       " ('taste', 0.3869291841983795),\n",
       " ('tasty', 0.38492098450660706),\n",
       " ('wounds', 0.38404884934425354),\n",
       " ('eats', 0.38201504945755005),\n",
       " ('skin', 0.3793923556804657),\n",
       " ('scratch', 0.378152459859848),\n",
       " ('grab', 0.377052903175354),\n",
       " ('stinging', 0.37598830461502075),\n",
       " ('saliva', 0.3757975995540619),\n",
       " ('fingers', 0.37532129883766174),\n",
       " ('lick', 0.37428519129753113),\n",
       " ('sharp', 0.3741050362586975),\n",
       " ('bigger', 0.37349745631217957),\n",
       " ('nasty', 0.37253034114837646),\n",
       " ('scratches', 0.37179258465766907),\n",
       " ('humans', 0.3713451325893402),\n",
       " ('stomach', 0.3691767752170563),\n",
       " ('you', 0.3690485954284668),\n",
       " ('infected', 0.36885833740234375),\n",
       " ('stray', 0.3687237799167633),\n",
       " ('bones', 0.36791080236434937),\n",
       " ('insects', 0.36692386865615845),\n",
       " ('juicy', 0.36606958508491516),\n",
       " ('ate', 0.36538392305374146),\n",
       " ('chunks', 0.3646906912326813),\n",
       " ('stab', 0.3636101484298706),\n",
       " ('fleas', 0.3606719970703125),\n",
       " ('wound', 0.3606138229370117),\n",
       " ('tooth', 0.35995516180992126),\n",
       " ('chicken', 0.3593977391719818),\n",
       " ('something', 0.3591749370098114),\n",
       " (\"'ll\", 0.35828015208244324),\n",
       " ('bullet', 0.3578786849975586),\n",
       " ('stings', 0.3557216227054596),\n",
       " ('chunk', 0.3554183542728424),\n",
       " ('bait', 0.354354590177536),\n",
       " ('jaws', 0.3539224863052368),\n",
       " ('crab', 0.3538946211338043),\n",
       " ('poke', 0.3534919023513794),\n",
       " ('lips', 0.3529817461967468),\n",
       " ('enough', 0.35146671533584595),\n",
       " ('big', 0.3510115146636963),\n",
       " ('legs', 0.3506172001361847),\n",
       " ('really', 0.34960827231407166),\n",
       " ('get', 0.3495103120803833),\n",
       " ('puncture', 0.349022775888443),\n",
       " ('cat', 0.34882113337516785),\n",
       " ('shake', 0.34881529211997986),\n",
       " ('spicy', 0.34779390692710876),\n",
       " ('nibble', 0.3476974368095398),\n",
       " ('dip', 0.34566134214401245),\n",
       " ('lip', 0.34527501463890076),\n",
       " (\"n't\", 0.34506452083587646),\n",
       " ('squeeze', 0.34455782175064087),\n",
       " ('nose', 0.344136118888855),\n",
       " ('mosquitoes', 0.34389814734458923),\n",
       " ('cheek', 0.3434971272945404),\n",
       " ('rattlesnake', 0.3430674970149994),\n",
       " ('rat', 0.34302979707717896),\n",
       " ('snakes', 0.3429301977157593),\n",
       " ('jaw', 0.3426038920879364),\n",
       " ('finger', 0.34192565083503723),\n",
       " ('lobster', 0.33938753604888916),\n",
       " ('sucking', 0.33911749720573425),\n",
       " ('scars', 0.3391153812408447),\n",
       " ('chew', 0.33819276094436646)]"
      ]
     },
     "execution_count": 6,
     "metadata": {},
     "output_type": "execute_result"
    }
   ],
   "source": [
    "glove_vectors.most_similar('bite', topn=100)"
   ]
  },
  {
   "cell_type": "code",
   "execution_count": 11,
   "id": "a6f8e7c4",
   "metadata": {},
   "outputs": [
    {
     "ename": "AttributeError",
     "evalue": "The vocab attribute was removed from KeyedVector in Gensim 4.0.0.\nUse KeyedVector's .key_to_index dict, .index_to_key list, and methods .get_vecattr(key, attr) and .set_vecattr(key, attr, new_val) instead.\nSee https://github.com/RaRe-Technologies/gensim/wiki/Migrating-from-Gensim-3.x-to-4",
     "output_type": "error",
     "traceback": [
      "\u001b[0;31m---------------------------------------------------------------------------\u001b[0m",
      "\u001b[0;31mAttributeError\u001b[0m                            Traceback (most recent call last)",
      "Cell \u001b[0;32mIn[11], line 1\u001b[0m\n\u001b[0;32m----> 1\u001b[0m \u001b[43mglove_vectors\u001b[49m\u001b[38;5;241;43m.\u001b[39;49m\u001b[43mvocab\u001b[49m\n",
      "File \u001b[0;32m~/workspaces/.env/lib/python3.10/site-packages/gensim/models/keyedvectors.py:734\u001b[0m, in \u001b[0;36mKeyedVectors.vocab\u001b[0;34m(self)\u001b[0m\n\u001b[1;32m    732\u001b[0m \u001b[38;5;129m@property\u001b[39m\n\u001b[1;32m    733\u001b[0m \u001b[38;5;28;01mdef\u001b[39;00m \u001b[38;5;21mvocab\u001b[39m(\u001b[38;5;28mself\u001b[39m):\n\u001b[0;32m--> 734\u001b[0m     \u001b[38;5;28;01mraise\u001b[39;00m \u001b[38;5;167;01mAttributeError\u001b[39;00m(\n\u001b[1;32m    735\u001b[0m         \u001b[38;5;124m\"\u001b[39m\u001b[38;5;124mThe vocab attribute was removed from KeyedVector in Gensim 4.0.0.\u001b[39m\u001b[38;5;130;01m\\n\u001b[39;00m\u001b[38;5;124m\"\u001b[39m\n\u001b[1;32m    736\u001b[0m         \u001b[38;5;124m\"\u001b[39m\u001b[38;5;124mUse KeyedVector\u001b[39m\u001b[38;5;124m'\u001b[39m\u001b[38;5;124ms .key_to_index dict, .index_to_key list, and methods \u001b[39m\u001b[38;5;124m\"\u001b[39m\n\u001b[1;32m    737\u001b[0m         \u001b[38;5;124m\"\u001b[39m\u001b[38;5;124m.get_vecattr(key, attr) and .set_vecattr(key, attr, new_val) instead.\u001b[39m\u001b[38;5;130;01m\\n\u001b[39;00m\u001b[38;5;124m\"\u001b[39m\n\u001b[1;32m    738\u001b[0m         \u001b[38;5;124m\"\u001b[39m\u001b[38;5;124mSee https://github.com/RaRe-Technologies/gensim/wiki/Migrating-from-Gensim-3.x-to-4\u001b[39m\u001b[38;5;124m\"\u001b[39m\n\u001b[1;32m    739\u001b[0m     )\n",
      "\u001b[0;31mAttributeError\u001b[0m: The vocab attribute was removed from KeyedVector in Gensim 4.0.0.\nUse KeyedVector's .key_to_index dict, .index_to_key list, and methods .get_vecattr(key, attr) and .set_vecattr(key, attr, new_val) instead.\nSee https://github.com/RaRe-Technologies/gensim/wiki/Migrating-from-Gensim-3.x-to-4"
     ]
    }
   ],
   "source": [
    "glove_vectors.vocab"
   ]
  },
  {
   "cell_type": "code",
   "execution_count": null,
   "id": "7d745cd6",
   "metadata": {},
   "outputs": [],
   "source": [
    "[item for item in glove_vectors]"
   ]
  },
  {
   "cell_type": "code",
   "execution_count": 7,
   "id": "fde03dd4",
   "metadata": {},
   "outputs": [
    {
     "data": {
      "text/plain": [
       "0.15944207"
      ]
     },
     "execution_count": 7,
     "metadata": {},
     "output_type": "execute_result"
    }
   ],
   "source": [
    "glove_vectors.similarity('chomp', 'bite')"
   ]
  },
  {
   "cell_type": "code",
   "execution_count": null,
   "id": "bc70fb16",
   "metadata": {},
   "outputs": [],
   "source": []
  }
 ],
 "metadata": {
  "kernelspec": {
   "display_name": "Python 3 (ipykernel)",
   "language": "python",
   "name": "python3"
  },
  "language_info": {
   "codemirror_mode": {
    "name": "ipython",
    "version": 3
   },
   "file_extension": ".py",
   "mimetype": "text/x-python",
   "name": "python",
   "nbconvert_exporter": "python",
   "pygments_lexer": "ipython3",
   "version": "3.10.9"
  }
 },
 "nbformat": 4,
 "nbformat_minor": 5
}
